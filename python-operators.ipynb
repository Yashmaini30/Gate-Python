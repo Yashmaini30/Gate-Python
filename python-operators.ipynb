{
 "cells": [
  {
   "cell_type": "code",
   "execution_count": 1,
   "id": "beb48c5e",
   "metadata": {
    "_cell_guid": "b1076dfc-b9ad-4769-8c92-a6c4dae69d19",
    "_uuid": "8f2839f25d086af736a60e9eeb907d3b93b6e0e5",
    "execution": {
     "iopub.execute_input": "2025-01-10T09:34:37.775186Z",
     "iopub.status.busy": "2025-01-10T09:34:37.774814Z",
     "iopub.status.idle": "2025-01-10T09:34:37.781215Z",
     "shell.execute_reply": "2025-01-10T09:34:37.779390Z"
    },
    "papermill": {
     "duration": 0.017016,
     "end_time": "2025-01-10T09:34:37.784082",
     "exception": false,
     "start_time": "2025-01-10T09:34:37.767066",
     "status": "completed"
    },
    "tags": []
   },
   "outputs": [],
   "source": [
    "# Opertor : it persforms operation on operands\n",
    "# Operator in Python\n",
    "# 1. Arithmetic \n",
    "# 2. logical\n",
    "# 3. Bitwise\n",
    "# 4. Relationship\n",
    "# 5. Assignment\n",
    "# 6. Identity\n",
    "# 7. Membership"
   ]
  },
  {
   "cell_type": "code",
   "execution_count": 2,
   "id": "93c31318",
   "metadata": {
    "execution": {
     "iopub.execute_input": "2025-01-10T09:34:37.792321Z",
     "iopub.status.busy": "2025-01-10T09:34:37.791955Z",
     "iopub.status.idle": "2025-01-10T09:34:37.800585Z",
     "shell.execute_reply": "2025-01-10T09:34:37.799020Z"
    },
    "papermill": {
     "duration": 0.014725,
     "end_time": "2025-01-10T09:34:37.802743",
     "exception": false,
     "start_time": "2025-01-10T09:34:37.788018",
     "status": "completed"
    },
    "tags": []
   },
   "outputs": [
    {
     "name": "stdout",
     "output_type": "stream",
     "text": [
      "False False\n",
      "True\n",
      "True\n"
     ]
    }
   ],
   "source": [
    "# Logical Operator - truth values\n",
    "# and, or, not\n",
    "\n",
    "a,b,c=12,15,20\n",
    "\n",
    "result1=(a<b) and(b>c)\n",
    "result2=(b>c) or(a>b)\n",
    "print(result1,result2)\n",
    "\n",
    "# priority : and>or\n",
    "\n",
    "a,b,c=5,3,2\n",
    "print(a<=b or b>=c and c<=a)\n",
    "print(b>a and c<b or a>b)"
   ]
  },
  {
   "cell_type": "code",
   "execution_count": 3,
   "id": "7bd15f1d",
   "metadata": {
    "execution": {
     "iopub.execute_input": "2025-01-10T09:34:37.811266Z",
     "iopub.status.busy": "2025-01-10T09:34:37.810870Z",
     "iopub.status.idle": "2025-01-10T09:34:37.817792Z",
     "shell.execute_reply": "2025-01-10T09:34:37.816287Z"
    },
    "papermill": {
     "duration": 0.013644,
     "end_time": "2025-01-10T09:34:37.819732",
     "exception": false,
     "start_time": "2025-01-10T09:34:37.806088",
     "status": "completed"
    },
    "tags": []
   },
   "outputs": [
    {
     "name": "stdout",
     "output_type": "stream",
     "text": [
      "5 5 -1\n"
     ]
    }
   ],
   "source": [
    "a,b,c,d = 5,3,-1,0\n",
    "i= a or b or c\n",
    "j= b and d or a\n",
    "k= c or a and b\n",
    "print(i,j,k)\n",
    "# decision making value is assigned"
   ]
  },
  {
   "cell_type": "code",
   "execution_count": 4,
   "id": "9c413d0c",
   "metadata": {
    "execution": {
     "iopub.execute_input": "2025-01-10T09:34:37.827388Z",
     "iopub.status.busy": "2025-01-10T09:34:37.827058Z",
     "iopub.status.idle": "2025-01-10T09:34:37.833814Z",
     "shell.execute_reply": "2025-01-10T09:34:37.832381Z"
    },
    "papermill": {
     "duration": 0.012828,
     "end_time": "2025-01-10T09:34:37.835895",
     "exception": false,
     "start_time": "2025-01-10T09:34:37.823067",
     "status": "completed"
    },
    "tags": []
   },
   "outputs": [
    {
     "name": "stdout",
     "output_type": "stream",
     "text": [
      "6 31 25 -24\n"
     ]
    }
   ],
   "source": [
    "# Bitwise shift operator\n",
    "# &(bitwise and), | (biwise or), ~(bitwise not), ^(bitwise xor), <<(left shift),>>(right shift)\n",
    "\n",
    "i,j=23,14\n",
    "\n",
    "k=i&j\n",
    "l=i|j\n",
    "m=i^j\n",
    "n=~i\n",
    "print(k,l,m,n)"
   ]
  },
  {
   "cell_type": "code",
   "execution_count": 5,
   "id": "34b775af",
   "metadata": {
    "execution": {
     "iopub.execute_input": "2025-01-10T09:34:37.846530Z",
     "iopub.status.busy": "2025-01-10T09:34:37.846130Z",
     "iopub.status.idle": "2025-01-10T09:34:37.852419Z",
     "shell.execute_reply": "2025-01-10T09:34:37.851196Z"
    },
    "papermill": {
     "duration": 0.013815,
     "end_time": "2025-01-10T09:34:37.854319",
     "exception": false,
     "start_time": "2025-01-10T09:34:37.840504",
     "status": "completed"
    },
    "tags": []
   },
   "outputs": [
    {
     "name": "stdout",
     "output_type": "stream",
     "text": [
      "101 79 79\n"
     ]
    }
   ],
   "source": [
    "x,y,z= 37,43,69\n",
    "a=x&y|z\n",
    "b=x^y|z\n",
    "c=z|x^y\n",
    "print(a,b,c)"
   ]
  },
  {
   "cell_type": "code",
   "execution_count": 6,
   "id": "31601f81",
   "metadata": {
    "execution": {
     "iopub.execute_input": "2025-01-10T09:34:37.863006Z",
     "iopub.status.busy": "2025-01-10T09:34:37.862649Z",
     "iopub.status.idle": "2025-01-10T09:34:37.868957Z",
     "shell.execute_reply": "2025-01-10T09:34:37.867192Z"
    },
    "papermill": {
     "duration": 0.012986,
     "end_time": "2025-01-10T09:34:37.870993",
     "exception": false,
     "start_time": "2025-01-10T09:34:37.858007",
     "status": "completed"
    },
    "tags": []
   },
   "outputs": [
    {
     "name": "stdout",
     "output_type": "stream",
     "text": [
      "67\n"
     ]
    }
   ],
   "source": [
    "# shift operator\n",
    "# variable << count === variable * 2 power count\n",
    "# variable >> count === variable // 2 power count\n",
    "\n",
    "a,b=17,9\n",
    "c=a<<2\n",
    "d=b>>3\n",
    "print(c-d)"
   ]
  },
  {
   "cell_type": "code",
   "execution_count": 7,
   "id": "ca1a4ea1",
   "metadata": {
    "execution": {
     "iopub.execute_input": "2025-01-10T09:34:37.879087Z",
     "iopub.status.busy": "2025-01-10T09:34:37.878641Z",
     "iopub.status.idle": "2025-01-10T09:34:37.886653Z",
     "shell.execute_reply": "2025-01-10T09:34:37.885036Z"
    },
    "papermill": {
     "duration": 0.014595,
     "end_time": "2025-01-10T09:34:37.888888",
     "exception": false,
     "start_time": "2025-01-10T09:34:37.874293",
     "status": "completed"
    },
    "tags": []
   },
   "outputs": [
    {
     "name": "stdout",
     "output_type": "stream",
     "text": [
      "10\n",
      "gate exam\n",
      "18\n",
      "4.4 4.0\n"
     ]
    }
   ],
   "source": [
    "# arithmatic operators\n",
    "\n",
    "a,b,c=7,3,\"gate\"\n",
    "print(a+b)\n",
    "# print(a+c) // invalid\n",
    "\n",
    "d,e=\"gate\",\" exam\"\n",
    "print(d+e)\n",
    "# print(d-e) //invalid\n",
    "\n",
    "str1=\"gate exam\"\n",
    "str2= str1*3 \n",
    "print(len(str2)-len(str1))\n",
    "\n",
    "# / - performs float div \n",
    "# // -as per input type\n",
    "# % - remainder\n",
    "\n",
    "a,b=17.6,4.0\n",
    "c=a/b\n",
    "d=a//b\n",
    "print(c,d)"
   ]
  },
  {
   "cell_type": "code",
   "execution_count": 8,
   "id": "18bf4145",
   "metadata": {
    "execution": {
     "iopub.execute_input": "2025-01-10T09:34:37.897878Z",
     "iopub.status.busy": "2025-01-10T09:34:37.897507Z",
     "iopub.status.idle": "2025-01-10T09:34:37.904337Z",
     "shell.execute_reply": "2025-01-10T09:34:37.902578Z"
    },
    "papermill": {
     "duration": 0.013724,
     "end_time": "2025-01-10T09:34:37.906548",
     "exception": false,
     "start_time": "2025-01-10T09:34:37.892824",
     "status": "completed"
    },
    "tags": []
   },
   "outputs": [
    {
     "name": "stdout",
     "output_type": "stream",
     "text": [
      "-4.25 -5 3\n"
     ]
    }
   ],
   "source": [
    "a,b=-17,4\n",
    "c=a/b\n",
    "d=a//b\n",
    "e=a%b\n",
    "print(c,d,e)"
   ]
  },
  {
   "cell_type": "code",
   "execution_count": 9,
   "id": "bf365775",
   "metadata": {
    "execution": {
     "iopub.execute_input": "2025-01-10T09:34:37.916177Z",
     "iopub.status.busy": "2025-01-10T09:34:37.915800Z",
     "iopub.status.idle": "2025-01-10T09:34:37.920010Z",
     "shell.execute_reply": "2025-01-10T09:34:37.918906Z"
    },
    "papermill": {
     "duration": 0.011414,
     "end_time": "2025-01-10T09:34:37.922010",
     "exception": false,
     "start_time": "2025-01-10T09:34:37.910596",
     "status": "completed"
    },
    "tags": []
   },
   "outputs": [],
   "source": [
    "# == comparison \n",
    "# = assign or copy  \n",
    "# priority == > =\n",
    "\n",
    "# membership operator\n",
    "# in, not in\n",
    "\n",
    "# identity operator\n",
    "# is, is not\n",
    "\n",
    "# Precedence (Highest to Lowest): () > ** (Right) > +x, -x, ~x (Right) > *, /, //, % > +, - > <<, >> > & > ^ > | > comparisons > not (Right) > and > or > if-else (Right) > lambda (Right) > = (Right) > ,\"\n"
   ]
  },
  {
   "cell_type": "code",
   "execution_count": null,
   "id": "f2d5e557",
   "metadata": {
    "papermill": {
     "duration": 0.004021,
     "end_time": "2025-01-10T09:34:37.929962",
     "exception": false,
     "start_time": "2025-01-10T09:34:37.925941",
     "status": "completed"
    },
    "tags": []
   },
   "outputs": [],
   "source": []
  }
 ],
 "metadata": {
  "kaggle": {
   "accelerator": "none",
   "dataSources": [],
   "dockerImageVersionId": 30822,
   "isGpuEnabled": false,
   "isInternetEnabled": true,
   "language": "python",
   "sourceType": "notebook"
  },
  "kernelspec": {
   "display_name": "Python 3",
   "language": "python",
   "name": "python3"
  },
  "language_info": {
   "codemirror_mode": {
    "name": "ipython",
    "version": 3
   },
   "file_extension": ".py",
   "mimetype": "text/x-python",
   "name": "python",
   "nbconvert_exporter": "python",
   "pygments_lexer": "ipython3",
   "version": "3.10.12"
  },
  "papermill": {
   "default_parameters": {},
   "duration": 3.378571,
   "end_time": "2025-01-10T09:34:38.456350",
   "environment_variables": {},
   "exception": null,
   "input_path": "__notebook__.ipynb",
   "output_path": "__notebook__.ipynb",
   "parameters": {},
   "start_time": "2025-01-10T09:34:35.077779",
   "version": "2.6.0"
  }
 },
 "nbformat": 4,
 "nbformat_minor": 5
}
